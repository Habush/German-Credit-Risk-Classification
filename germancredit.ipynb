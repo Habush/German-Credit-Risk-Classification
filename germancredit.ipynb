{
 "cells": [
  {
   "cell_type": "markdown",
   "metadata": {},
   "source": [
    "# Maschinelles Lernen in der Bonitätsprüfung\n",
    "## Seminararbeit Tobias Kuhlmann\n",
    "Ziel ist eine Vorhersage der Kreditwürdigkeit von verschiedenen Bewerbungen. \n",
    "\n",
    "### Datensatz\n",
    "https://archive.ics.uci.edu/ml/datasets/Statlog+(German+Credit+Data)\n",
    "Abstract: This dataset classifies people described by a set of attributes as good or bad credit risks. Comes in two formats (one all numeric). Also comes with a cost matrix\n",
    "Datensatzgröße ist 1000 Zeilen x (20 Attribute + 1 Klassifizierung)\n",
    "\n",
    "### Ausführung\n",
    "* Erst alle Funktionen am Anfang ausführen, die später die Klassifizierung übernehmen\n",
    "* Nach den Funktionen beginnt der iterative Prozess: Preprocessing, train, evaluate"
   ]
  },
  {
   "cell_type": "code",
   "execution_count": 1,
   "metadata": {
    "collapsed": true
   },
   "outputs": [],
   "source": [
    "# @author Tobias Kuhlmann\n",
    "\n",
    "# enable inline plotting with matplotbib and seaborn\n",
    "%matplotlib inline\n",
    "\n",
    "import numpy as np\n",
    "import pylab as pl\n",
    "import pandas as pd\n",
    "import matplotlib.pyplot as plt\n",
    "import seaborn as sns; sns.set(style=\"ticks\", color_codes=True)\n",
    "import pydotplus \n",
    "\n",
    "from IPython.display import Image  \n",
    "from collections import defaultdict\n",
    "from sklearn.dummy import DummyClassifier\n",
    "from sklearn import svm, tree\n",
    "from sklearn.tree import export_graphviz\n",
    "from sklearn.model_selection import train_test_split, cross_val_score, GridSearchCV\n",
    "from sklearn.preprocessing import OneHotEncoder, LabelEncoder, label_binarize, StandardScaler, MinMaxScaler\n",
    "from sklearn.decomposition import PCA\n",
    "from sklearn.metrics import classification_report,confusion_matrix, roc_curve, auc\n",
    "from sklearn.naive_bayes import GaussianNB\n",
    "from sklearn.neighbors import KNeighborsClassifier\n",
    "from sklearn.neural_network import MLPClassifier\n",
    "from sklearn.ensemble import ExtraTreesClassifier, RandomForestClassifier, GradientBoostingClassifier, AdaBoostClassifier, BaggingClassifier, VotingClassifier\n",
    "from sklearn.feature_selection import RFE, SelectKBest, chi2, SelectFromModel\n",
    "from sklearn.linear_model import LogisticRegression, SGDClassifier\n",
    "from imblearn.over_sampling import SMOTE\n"
   ]
  },
  {
   "cell_type": "markdown",
   "metadata": {},
   "source": [
    "## Algorithmen, Funktionen\n",
    "\n",
    "* Cross Validation is performed with every Algorithm, if k-fold cross validation accuracy is significantly less than model accuracy, the model probably overfits"
   ]
  },
  {
   "cell_type": "markdown",
   "metadata": {},
   "source": [
    "#### Function to get evaluation metrics and roc curve"
   ]
  },
  {
   "cell_type": "code",
   "execution_count": 2,
   "metadata": {
    "collapsed": true
   },
   "outputs": [],
   "source": [
    "# Function for evaluation reports\n",
    "def get_eval(clf, X_train, y_train,y_test,y_pred):\n",
    "    # Cross Validation to test and anticipate overfitting problem\n",
    "    scores1 = cross_val_score(clf, X_train, y_train, cv=10, scoring='accuracy')\n",
    "    scores2 = cross_val_score(clf, X_train, y_train, cv=10, scoring='precision')\n",
    "    scores3 = cross_val_score(clf, X_train, y_train, cv=10, scoring='roc_auc')\n",
    "    # The mean score and standard deviation of the score estimate\n",
    "    print(\"Cross Validation Accuracy: %0.2f (+/- %0.2f)\" % (scores1.mean(), scores1.std()))\n",
    "    print(\"Cross Validation Precision: %0.2f (+/- %0.2f)\" % (scores2.mean(), scores2.std()))\n",
    "    print(\"Cross Validation roc_auc: %0.2f (+/- %0.2f)\" % (scores3.mean(), scores3.std()))\n",
    "    # Create and print confusion matrix\n",
    "    abclf_cm = confusion_matrix(y_test,y_pred)\n",
    "    print(abclf_cm)\n",
    "    return\n",
    "\n",
    "# Function to get roc curve\n",
    "def get_roc (y_test,y_pred):\n",
    "    # Compute ROC curve and ROC area for each class\n",
    "    fpr = dict()\n",
    "    tpr = dict()\n",
    "    roc_auc = dict()\n",
    "    fpr, tpr, _ = roc_curve(y_test, y_pred)\n",
    "    roc_auc = auc(fpr, tpr)\n",
    "    #Plot of a ROC curve\n",
    "    plt.figure()\n",
    "    lw = 2\n",
    "    plt.plot(fpr, tpr, color='darkorange',\n",
    "             label='ROC curve (area = %0.2f)' % roc_auc)\n",
    "    plt.plot([0, 1], [0, 1], color='navy', lw=lw, linestyle='--')\n",
    "    plt.xlim([0.0, 1.0])\n",
    "    plt.ylim([0.0, 1.0])\n",
    "    plt.xlabel('False Positive Rate')\n",
    "    plt.ylabel('True Positive Rate')\n",
    "    plt.title('Receiver operating characteristic')\n",
    "    plt.legend(loc=\"lower right\")\n",
    "    plt.show()\n",
    "    return"
   ]
  },
  {
   "cell_type": "markdown",
   "metadata": {},
   "source": [
    "#### DecisionTreeClassifier"
   ]
  },
  {
   "cell_type": "code",
   "execution_count": 3,
   "metadata": {
    "collapsed": true
   },
   "outputs": [],
   "source": [
    "# fit, train and cross validate Decision Tree with training and test data \n",
    "def dectreeclf(X_train, y_train,X_test, y_test):\n",
    "    print(\"DecisionTreeClassifier\")\n",
    "    dec_tree = tree.DecisionTreeClassifier(min_samples_split=10,min_samples_leaf=5).fit(X_train, y_train)\n",
    "\n",
    "    # Predict target variables y for test data\n",
    "    y_pred = dec_tree.predict(X_test)\n",
    "\n",
    "    # Export visualization as file\n",
    "    #visualize_tree(dec_tree,X_train,y_train)\n",
    "    \n",
    "    # Get Cross Validation and Confusion matrix\n",
    "    get_eval(dec_tree, X_train, y_train,y_test,y_pred)\n",
    "    return\n",
    "\n",
    "# Visualize tree and save as .pdf\n",
    "# Only works for dataframes, not for numpy arrays\n",
    "def visualize_tree(clf,X_train,y_train):\n",
    "    dot_data = export_graphviz(clf, out_file=None) \n",
    "    graph = pydotplus.graph_from_dot_data(dot_data) \n",
    "    graph.write_pdf(\"dectreeclf.pdf\") \n",
    "     \n",
    "        \n",
    "    dot_data = export_graphviz(clf, out_file=None, \n",
    "                         feature_names=[str(x) for x in X_train.columns.tolist()], # feature names from X_train column names\n",
    "                         class_names=[str(x) for x in clf.classes_],\n",
    "                         filled=True, rounded=True,  \n",
    "                         special_characters=True,\n",
    "                         leaves_parallel=True)  \n",
    "    graph = pydotplus.graph_from_dot_data(dot_data)  \n",
    "    Image(graph.create_png()) \n",
    "    return"
   ]
  },
  {
   "cell_type": "markdown",
   "metadata": {},
   "source": [
    "#### Random Forest Classifier"
   ]
  },
  {
   "cell_type": "code",
   "execution_count": 4,
   "metadata": {
    "collapsed": true
   },
   "outputs": [],
   "source": [
    "# fit, train and cross validate Decision Tree with training and test data \n",
    "def randomforestclf(X_train, y_train,X_test, y_test):\n",
    "    print(\"RandomForestClassifier\")\n",
    "    randomforest = RandomForestClassifier().fit(X_train, y_train)\n",
    "\n",
    "    # Predict target variables y for test data\n",
    "    y_pred = randomforest.predict(X_test)\n",
    "\n",
    "    # Get Cross Validation and Confusion matrix\n",
    "    get_eval(randomforest, X_train, y_train,y_test,y_pred)\n",
    "    return\n"
   ]
  },
  {
   "cell_type": "markdown",
   "metadata": {},
   "source": [
    "#### Extra Tree Classifier"
   ]
  },
  {
   "cell_type": "code",
   "execution_count": 5,
   "metadata": {
    "collapsed": true
   },
   "outputs": [],
   "source": [
    "# fit, train and cross validate Decision Tree with training and test data \n",
    "def extratreesclf(X_train, y_train,X_test, y_test):\n",
    "    print(\"ExtraTreesClassifier\")\n",
    "    extratrees = ExtraTreesClassifier().fit(X_train, y_train)\n",
    "\n",
    "    # Predict target variables y for test data\n",
    "    y_pred = extratrees.predict(X_test)\n",
    "\n",
    "    # Get Cross Validation and Confusion matrix\n",
    "    get_eval(extratrees, X_train, y_train,y_test,y_pred)\n",
    "    return"
   ]
  },
  {
   "cell_type": "markdown",
   "metadata": {},
   "source": [
    "#### GradientBoostingClassifier"
   ]
  },
  {
   "cell_type": "code",
   "execution_count": 6,
   "metadata": {
    "collapsed": true
   },
   "outputs": [],
   "source": [
    "# fit, train and cross validate GradientBoostingClassifier with training and test data \n",
    "def gradientboostingclf(X_train, y_train, X_test, y_test):  \n",
    "    print(\"GradientBoostingClassifier\")\n",
    "    gbclf = GradientBoostingClassifier().fit(X_train, y_train)\n",
    "\n",
    "    # Predict target variables y for test data\n",
    "    y_pred = gbclf.predict(X_test)\n",
    "\n",
    "    # Get Cross Validation and Confusion matrix\n",
    "    get_eval(gbclf, X_train, y_train,y_test,y_pred)\n",
    "    return"
   ]
  },
  {
   "cell_type": "markdown",
   "metadata": {},
   "source": [
    "#### AdaBoostClassifier"
   ]
  },
  {
   "cell_type": "code",
   "execution_count": 7,
   "metadata": {
    "collapsed": true
   },
   "outputs": [],
   "source": [
    "# fit, train and cross validate GradientBoostingClassifier with training and test data \n",
    "def adaboostclf(X_train, y_train, X_test, y_test):  \n",
    "    print(\"AdaBoostClassifier\")\n",
    "    abclf = AdaBoostClassifier().fit(X_train, y_train)\n",
    "\n",
    "    # Predict target variables y for test data\n",
    "    y_pred = abclf.predict(X_test)\n",
    "\n",
    "    # Get Cross Validation and Confusion matrix\n",
    "    get_eval(abclf, X_train, y_train,y_test,y_pred)\n",
    "    return"
   ]
  },
  {
   "cell_type": "markdown",
   "metadata": {},
   "source": [
    "#### Bagging Classifier"
   ]
  },
  {
   "cell_type": "code",
   "execution_count": 8,
   "metadata": {
    "collapsed": true
   },
   "outputs": [],
   "source": [
    "def baggingclf(X_train, y_train, X_test, y_test):  \n",
    "    print(\"BaggingClassifier\")\n",
    "    bclf = BaggingClassifier().fit(X_train, y_train)\n",
    "\n",
    "    # Predict target variables y for test data\n",
    "    y_pred = bclf.predict(X_test)\n",
    "\n",
    "    # Get Cross Validation and Confusion matrix\n",
    "    get_eval(bclf, X_train, y_train,y_test,y_pred)\n",
    "    return"
   ]
  },
  {
   "cell_type": "markdown",
   "metadata": {},
   "source": [
    "#### Logistic Regression"
   ]
  },
  {
   "cell_type": "code",
   "execution_count": 9,
   "metadata": {
    "collapsed": true
   },
   "outputs": [],
   "source": [
    "# fit, train and cross validate Decision Tree with training and test data \n",
    "def logregclf(X_train, y_train,X_test, y_test):\n",
    "    print(\"LogisticRegression\")\n",
    "    logreg = LogisticRegression().fit(X_train, y_train)\n",
    "\n",
    "    # Predict target variables y for test data\n",
    "    y_pred = logreg.predict(X_test)\n",
    "\n",
    "    # Get Cross Validation and Confusion matrix\n",
    "    get_eval(logreg, X_train, y_train,y_test,y_pred)\n",
    "    return"
   ]
  },
  {
   "cell_type": "markdown",
   "metadata": {},
   "source": [
    "#### SGDClassifier"
   ]
  },
  {
   "cell_type": "code",
   "execution_count": 10,
   "metadata": {
    "collapsed": true
   },
   "outputs": [],
   "source": [
    "# fit, train and cross validate Decision Tree with training and test data \n",
    "def sgdclf(X_train, y_train,X_test, y_test):\n",
    "    print(\"SGDClassifier\")\n",
    "    sgd = SGDClassifier().fit(X_train, y_train)\n",
    "\n",
    "    # Predict target variables y for test data\n",
    "    y_pred = sgd.predict(X_test)\n",
    "\n",
    "    # Get Cross Validation and Confusion matrix\n",
    "    get_eval(sgd, X_train, y_train,y_test,y_pred)\n",
    "    return"
   ]
  },
  {
   "cell_type": "markdown",
   "metadata": {},
   "source": [
    "#### Linear SVC"
   ]
  },
  {
   "cell_type": "code",
   "execution_count": 11,
   "metadata": {
    "collapsed": true
   },
   "outputs": [],
   "source": [
    "# fit, train and cross validate linear Support Vector Machine with training and test data \n",
    "def linearsvmclf(X_train, y_train, X_test, y_test, C): \n",
    "    print(\"LinearSVC\")\n",
    "    lin_svc = svm.LinearSVC(C=C, class_weight=\"balanced\",dual=False).fit(X_train, y_train)\n",
    "\n",
    "    # Predict target variables y for test data\n",
    "    y_pred = lin_svc.predict(X_test)\n",
    "    \n",
    "    # Get Cross Validation and Confusion matrix\n",
    "    get_eval(lin_svc, X_train, y_train,y_test,y_pred)\n",
    "    return"
   ]
  },
  {
   "cell_type": "markdown",
   "metadata": {},
   "source": [
    "#### SVC"
   ]
  },
  {
   "cell_type": "code",
   "execution_count": 12,
   "metadata": {
    "collapsed": true
   },
   "outputs": [],
   "source": [
    "# fit, train and cross validate linear Support Vector Machine with training and test data \n",
    "def svmclf(X_train, y_train, X_test, y_test, C): \n",
    "    print(\"SVC\")\n",
    "    #C = 0.7  # SVM regularization parameter\n",
    "    svc = svm.SVC(kernel='poly',degree=1,probability=True,C=C,class_weight=\"balanced\").fit(X_train, y_train)\n",
    "\n",
    "    # Predict target variables y for test data\n",
    "    y_pred = svc.predict(X_test)\n",
    "    \n",
    "    # Get Cross Validation and Confusion matrix\n",
    "    get_eval(svc, X_train, y_train,y_test,y_pred)\n",
    "    return"
   ]
  },
  {
   "cell_type": "markdown",
   "metadata": {},
   "source": [
    "#### Gaussian Naive Bayes"
   ]
  },
  {
   "cell_type": "code",
   "execution_count": 13,
   "metadata": {
    "collapsed": true
   },
   "outputs": [],
   "source": [
    "# fit, train and cross validate Gaussian Naive Bayes with training and test data \n",
    "def gaussnbclf(X_train, y_train, X_test, y_test):  \n",
    "    print(\"GaussianNB\")\n",
    "    gauss_nb = GaussianNB().fit(X_train, y_train)\n",
    "\n",
    "    # Predict target variables y for test data\n",
    "    y_pred = gauss_nb.predict(X_test)\n",
    "\n",
    "    # Get Cross Validation and Confusion matrix\n",
    "    get_eval(gauss_nb, X_train, y_train,y_test,y_pred)\n",
    "    return"
   ]
  },
  {
   "cell_type": "markdown",
   "metadata": {},
   "source": [
    "#### KNeighborsClassifier"
   ]
  },
  {
   "cell_type": "code",
   "execution_count": 14,
   "metadata": {
    "collapsed": true
   },
   "outputs": [],
   "source": [
    "# fit, train and cross validate KNeighborsClassifier with training and test data \n",
    "def knnclf(X_train, y_train, X_test, y_test):  \n",
    "    print(\"KNeighborsClassifier\")\n",
    "    knn = KNeighborsClassifier(n_neighbors=3).fit(X_train, y_train)\n",
    "\n",
    "    # Predict target variables y for test data\n",
    "    y_pred = knn.predict(X_test)\n",
    "\n",
    "    # Get Cross Validation and Confusion matrix\n",
    "    get_eval(knn, X_train, y_train,y_test,y_pred)\n",
    "    return"
   ]
  },
  {
   "cell_type": "markdown",
   "metadata": {},
   "source": [
    "#### Neural Network: MLPClassifier"
   ]
  },
  {
   "cell_type": "code",
   "execution_count": 15,
   "metadata": {
    "collapsed": true
   },
   "outputs": [],
   "source": [
    "# fit, train and cross validate KNeighborsClassifier with training and test data \n",
    "# good working example with tensorflow https://github.com/andpol5/credit-classifier/blob/master/trainNeuralNet.py\n",
    "# Choose hidden layer size: https://stats.stackexchange.com/questions/181/how-to-choose-the-number-of-hidden-layers-and-nodes-in-a-feedforward-neural-netw\n",
    "def mlpclf(X_train, y_train, X_test, y_test): \n",
    "    print(\"MLPClassifier\")\n",
    "    # fit MLPClassifier with training data, good hidden_layer_sizes = 5,5:AUC63;75,75:AUC65;\n",
    "    mlpclf = MLPClassifier(solver='lbfgs', alpha=5, hidden_layer_sizes=(75,75))\n",
    "    mlpclf.fit(X_train, y_train)\n",
    "    \n",
    "    print(mlpclf.get_params)\n",
    "    \n",
    "    # Predict target variables y for test data\n",
    "    y_pred = mlpclf.predict(X_test)\n",
    "    \n",
    "    # Get Cross Validation and Confusion matrix\n",
    "    get_eval(mlpclf, X_train, y_train,y_test,y_pred)\n",
    "    return"
   ]
  },
  {
   "cell_type": "markdown",
   "metadata": {},
   "source": [
    "## Iterativer Prozess: Preprocess, train, evaluate"
   ]
  },
  {
   "cell_type": "markdown",
   "metadata": {},
   "source": [
    "## Data preprocessing\n",
    "* http://scikit-learn.org/stable/modules/preprocessing.html"
   ]
  },
  {
   "cell_type": "markdown",
   "metadata": {},
   "source": [
    "### Data Summarization"
   ]
  },
  {
   "cell_type": "markdown",
   "metadata": {},
   "source": [
    "#### Import  original categorical/numerical data"
   ]
  },
  {
   "cell_type": "code",
   "execution_count": 16,
   "metadata": {},
   "outputs": [
    {
     "name": "stdout",
     "output_type": "stream",
     "text": [
      "(1000, 21)\n",
      "Index(['existingchecking', 'duration', 'credithistory', 'purpose',\n",
      "       'creditamount', 'savings', 'employmentsince', 'installmentrate',\n",
      "       'statussex', 'otherdebtors', 'residencesince', 'property', 'age',\n",
      "       'otherinstallmentplans', 'housing', 'existingcredits', 'job',\n",
      "       'peopleliable', 'telephone', 'foreignworker', 'classification'],\n",
      "      dtype='object')\n"
     ]
    },
    {
     "data": {
      "text/html": [
       "<div>\n",
       "<style>\n",
       "    .dataframe thead tr:only-child th {\n",
       "        text-align: right;\n",
       "    }\n",
       "\n",
       "    .dataframe thead th {\n",
       "        text-align: left;\n",
       "    }\n",
       "\n",
       "    .dataframe tbody tr th {\n",
       "        vertical-align: top;\n",
       "    }\n",
       "</style>\n",
       "<table border=\"1\" class=\"dataframe\">\n",
       "  <thead>\n",
       "    <tr style=\"text-align: right;\">\n",
       "      <th></th>\n",
       "      <th>existingchecking</th>\n",
       "      <th>duration</th>\n",
       "      <th>credithistory</th>\n",
       "      <th>purpose</th>\n",
       "      <th>creditamount</th>\n",
       "      <th>savings</th>\n",
       "      <th>employmentsince</th>\n",
       "      <th>installmentrate</th>\n",
       "      <th>statussex</th>\n",
       "      <th>otherdebtors</th>\n",
       "      <th>...</th>\n",
       "      <th>property</th>\n",
       "      <th>age</th>\n",
       "      <th>otherinstallmentplans</th>\n",
       "      <th>housing</th>\n",
       "      <th>existingcredits</th>\n",
       "      <th>job</th>\n",
       "      <th>peopleliable</th>\n",
       "      <th>telephone</th>\n",
       "      <th>foreignworker</th>\n",
       "      <th>classification</th>\n",
       "    </tr>\n",
       "  </thead>\n",
       "  <tbody>\n",
       "    <tr>\n",
       "      <th>0</th>\n",
       "      <td>A11</td>\n",
       "      <td>6</td>\n",
       "      <td>A34</td>\n",
       "      <td>A43</td>\n",
       "      <td>1169</td>\n",
       "      <td>A65</td>\n",
       "      <td>A75</td>\n",
       "      <td>4</td>\n",
       "      <td>A93</td>\n",
       "      <td>A101</td>\n",
       "      <td>...</td>\n",
       "      <td>A121</td>\n",
       "      <td>67</td>\n",
       "      <td>A143</td>\n",
       "      <td>A152</td>\n",
       "      <td>2</td>\n",
       "      <td>A173</td>\n",
       "      <td>1</td>\n",
       "      <td>A192</td>\n",
       "      <td>A201</td>\n",
       "      <td>1</td>\n",
       "    </tr>\n",
       "    <tr>\n",
       "      <th>1</th>\n",
       "      <td>A12</td>\n",
       "      <td>48</td>\n",
       "      <td>A32</td>\n",
       "      <td>A43</td>\n",
       "      <td>5951</td>\n",
       "      <td>A61</td>\n",
       "      <td>A73</td>\n",
       "      <td>2</td>\n",
       "      <td>A92</td>\n",
       "      <td>A101</td>\n",
       "      <td>...</td>\n",
       "      <td>A121</td>\n",
       "      <td>22</td>\n",
       "      <td>A143</td>\n",
       "      <td>A152</td>\n",
       "      <td>1</td>\n",
       "      <td>A173</td>\n",
       "      <td>1</td>\n",
       "      <td>A191</td>\n",
       "      <td>A201</td>\n",
       "      <td>2</td>\n",
       "    </tr>\n",
       "    <tr>\n",
       "      <th>2</th>\n",
       "      <td>A14</td>\n",
       "      <td>12</td>\n",
       "      <td>A34</td>\n",
       "      <td>A46</td>\n",
       "      <td>2096</td>\n",
       "      <td>A61</td>\n",
       "      <td>A74</td>\n",
       "      <td>2</td>\n",
       "      <td>A93</td>\n",
       "      <td>A101</td>\n",
       "      <td>...</td>\n",
       "      <td>A121</td>\n",
       "      <td>49</td>\n",
       "      <td>A143</td>\n",
       "      <td>A152</td>\n",
       "      <td>1</td>\n",
       "      <td>A172</td>\n",
       "      <td>2</td>\n",
       "      <td>A191</td>\n",
       "      <td>A201</td>\n",
       "      <td>1</td>\n",
       "    </tr>\n",
       "    <tr>\n",
       "      <th>3</th>\n",
       "      <td>A11</td>\n",
       "      <td>42</td>\n",
       "      <td>A32</td>\n",
       "      <td>A42</td>\n",
       "      <td>7882</td>\n",
       "      <td>A61</td>\n",
       "      <td>A74</td>\n",
       "      <td>2</td>\n",
       "      <td>A93</td>\n",
       "      <td>A103</td>\n",
       "      <td>...</td>\n",
       "      <td>A122</td>\n",
       "      <td>45</td>\n",
       "      <td>A143</td>\n",
       "      <td>A153</td>\n",
       "      <td>1</td>\n",
       "      <td>A173</td>\n",
       "      <td>2</td>\n",
       "      <td>A191</td>\n",
       "      <td>A201</td>\n",
       "      <td>1</td>\n",
       "    </tr>\n",
       "    <tr>\n",
       "      <th>4</th>\n",
       "      <td>A11</td>\n",
       "      <td>24</td>\n",
       "      <td>A33</td>\n",
       "      <td>A40</td>\n",
       "      <td>4870</td>\n",
       "      <td>A61</td>\n",
       "      <td>A73</td>\n",
       "      <td>3</td>\n",
       "      <td>A93</td>\n",
       "      <td>A101</td>\n",
       "      <td>...</td>\n",
       "      <td>A124</td>\n",
       "      <td>53</td>\n",
       "      <td>A143</td>\n",
       "      <td>A153</td>\n",
       "      <td>2</td>\n",
       "      <td>A173</td>\n",
       "      <td>2</td>\n",
       "      <td>A191</td>\n",
       "      <td>A201</td>\n",
       "      <td>2</td>\n",
       "    </tr>\n",
       "    <tr>\n",
       "      <th>5</th>\n",
       "      <td>A14</td>\n",
       "      <td>36</td>\n",
       "      <td>A32</td>\n",
       "      <td>A46</td>\n",
       "      <td>9055</td>\n",
       "      <td>A65</td>\n",
       "      <td>A73</td>\n",
       "      <td>2</td>\n",
       "      <td>A93</td>\n",
       "      <td>A101</td>\n",
       "      <td>...</td>\n",
       "      <td>A124</td>\n",
       "      <td>35</td>\n",
       "      <td>A143</td>\n",
       "      <td>A153</td>\n",
       "      <td>1</td>\n",
       "      <td>A172</td>\n",
       "      <td>2</td>\n",
       "      <td>A192</td>\n",
       "      <td>A201</td>\n",
       "      <td>1</td>\n",
       "    </tr>\n",
       "    <tr>\n",
       "      <th>6</th>\n",
       "      <td>A14</td>\n",
       "      <td>24</td>\n",
       "      <td>A32</td>\n",
       "      <td>A42</td>\n",
       "      <td>2835</td>\n",
       "      <td>A63</td>\n",
       "      <td>A75</td>\n",
       "      <td>3</td>\n",
       "      <td>A93</td>\n",
       "      <td>A101</td>\n",
       "      <td>...</td>\n",
       "      <td>A122</td>\n",
       "      <td>53</td>\n",
       "      <td>A143</td>\n",
       "      <td>A152</td>\n",
       "      <td>1</td>\n",
       "      <td>A173</td>\n",
       "      <td>1</td>\n",
       "      <td>A191</td>\n",
       "      <td>A201</td>\n",
       "      <td>1</td>\n",
       "    </tr>\n",
       "    <tr>\n",
       "      <th>7</th>\n",
       "      <td>A12</td>\n",
       "      <td>36</td>\n",
       "      <td>A32</td>\n",
       "      <td>A41</td>\n",
       "      <td>6948</td>\n",
       "      <td>A61</td>\n",
       "      <td>A73</td>\n",
       "      <td>2</td>\n",
       "      <td>A93</td>\n",
       "      <td>A101</td>\n",
       "      <td>...</td>\n",
       "      <td>A123</td>\n",
       "      <td>35</td>\n",
       "      <td>A143</td>\n",
       "      <td>A151</td>\n",
       "      <td>1</td>\n",
       "      <td>A174</td>\n",
       "      <td>1</td>\n",
       "      <td>A192</td>\n",
       "      <td>A201</td>\n",
       "      <td>1</td>\n",
       "    </tr>\n",
       "    <tr>\n",
       "      <th>8</th>\n",
       "      <td>A14</td>\n",
       "      <td>12</td>\n",
       "      <td>A32</td>\n",
       "      <td>A43</td>\n",
       "      <td>3059</td>\n",
       "      <td>A64</td>\n",
       "      <td>A74</td>\n",
       "      <td>2</td>\n",
       "      <td>A91</td>\n",
       "      <td>A101</td>\n",
       "      <td>...</td>\n",
       "      <td>A121</td>\n",
       "      <td>61</td>\n",
       "      <td>A143</td>\n",
       "      <td>A152</td>\n",
       "      <td>1</td>\n",
       "      <td>A172</td>\n",
       "      <td>1</td>\n",
       "      <td>A191</td>\n",
       "      <td>A201</td>\n",
       "      <td>1</td>\n",
       "    </tr>\n",
       "    <tr>\n",
       "      <th>9</th>\n",
       "      <td>A12</td>\n",
       "      <td>30</td>\n",
       "      <td>A34</td>\n",
       "      <td>A40</td>\n",
       "      <td>5234</td>\n",
       "      <td>A61</td>\n",
       "      <td>A71</td>\n",
       "      <td>4</td>\n",
       "      <td>A94</td>\n",
       "      <td>A101</td>\n",
       "      <td>...</td>\n",
       "      <td>A123</td>\n",
       "      <td>28</td>\n",
       "      <td>A143</td>\n",
       "      <td>A152</td>\n",
       "      <td>2</td>\n",
       "      <td>A174</td>\n",
       "      <td>1</td>\n",
       "      <td>A191</td>\n",
       "      <td>A201</td>\n",
       "      <td>2</td>\n",
       "    </tr>\n",
       "  </tbody>\n",
       "</table>\n",
       "<p>10 rows × 21 columns</p>\n",
       "</div>"
      ],
      "text/plain": [
       "  existingchecking  duration credithistory purpose  creditamount savings  \\\n",
       "0              A11         6           A34     A43          1169     A65   \n",
       "1              A12        48           A32     A43          5951     A61   \n",
       "2              A14        12           A34     A46          2096     A61   \n",
       "3              A11        42           A32     A42          7882     A61   \n",
       "4              A11        24           A33     A40          4870     A61   \n",
       "5              A14        36           A32     A46          9055     A65   \n",
       "6              A14        24           A32     A42          2835     A63   \n",
       "7              A12        36           A32     A41          6948     A61   \n",
       "8              A14        12           A32     A43          3059     A64   \n",
       "9              A12        30           A34     A40          5234     A61   \n",
       "\n",
       "  employmentsince  installmentrate statussex otherdebtors      ...        \\\n",
       "0             A75                4       A93         A101      ...         \n",
       "1             A73                2       A92         A101      ...         \n",
       "2             A74                2       A93         A101      ...         \n",
       "3             A74                2       A93         A103      ...         \n",
       "4             A73                3       A93         A101      ...         \n",
       "5             A73                2       A93         A101      ...         \n",
       "6             A75                3       A93         A101      ...         \n",
       "7             A73                2       A93         A101      ...         \n",
       "8             A74                2       A91         A101      ...         \n",
       "9             A71                4       A94         A101      ...         \n",
       "\n",
       "   property age  otherinstallmentplans housing existingcredits   job  \\\n",
       "0      A121  67                   A143    A152               2  A173   \n",
       "1      A121  22                   A143    A152               1  A173   \n",
       "2      A121  49                   A143    A152               1  A172   \n",
       "3      A122  45                   A143    A153               1  A173   \n",
       "4      A124  53                   A143    A153               2  A173   \n",
       "5      A124  35                   A143    A153               1  A172   \n",
       "6      A122  53                   A143    A152               1  A173   \n",
       "7      A123  35                   A143    A151               1  A174   \n",
       "8      A121  61                   A143    A152               1  A172   \n",
       "9      A123  28                   A143    A152               2  A174   \n",
       "\n",
       "  peopleliable  telephone foreignworker classification  \n",
       "0            1       A192          A201              1  \n",
       "1            1       A191          A201              2  \n",
       "2            2       A191          A201              1  \n",
       "3            2       A191          A201              1  \n",
       "4            2       A191          A201              2  \n",
       "5            2       A192          A201              1  \n",
       "6            1       A191          A201              1  \n",
       "7            1       A192          A201              1  \n",
       "8            1       A191          A201              1  \n",
       "9            1       A191          A201              2  \n",
       "\n",
       "[10 rows x 21 columns]"
      ]
     },
     "execution_count": 16,
     "metadata": {},
     "output_type": "execute_result"
    }
   ],
   "source": [
    "# import categorical/numerical data (.csv) with Pandas DataFrame\n",
    "filename = '/Users/tobias/Documents/DS&RT Analytics/data/German credit/germancreditdata.data.csv'\n",
    "names = ['existingchecking', 'duration', 'credithistory', 'purpose', 'creditamount', \n",
    "         'savings', 'employmentsince', 'installmentrate', 'statussex', 'otherdebtors', \n",
    "         'residencesince', 'property', 'age', 'otherinstallmentplans', 'housing', \n",
    "         'existingcredits', 'job', 'peopleliable', 'telephone', 'foreignworker', 'classification']\n",
    "data = pd.read_csv(filename, delimiter=';', skiprows=1, names = names)\n",
    "print(data.shape)\n",
    "print (data.columns)\n",
    "data.head(10)"
   ]
  },
  {
   "cell_type": "code",
   "execution_count": 17,
   "metadata": {
    "collapsed": true
   },
   "outputs": [],
   "source": [
    "#create quickaccess list with categorical variables labels\n",
    "catvars = ['existingchecking', 'credithistory', 'purpose', 'savings', 'employmentsince',\n",
    "           'statussex', 'otherdebtors', 'property', 'otherinstallmentplans', 'housing', 'job', \n",
    "           'telephone', 'foreignworker']\n",
    "#create quickaccess list with numerical variables labels\n",
    "numvars = ['creditamount', 'duration', 'installmentrate', 'residencesince', 'age', \n",
    "           'existingcredits', 'peopleliable', 'classification']"
   ]
  },
  {
   "cell_type": "markdown",
   "metadata": {},
   "source": [
    "### Data Cleaning\n",
    "####  Missing Values"
   ]
  },
  {
   "cell_type": "code",
   "execution_count": 18,
   "metadata": {},
   "outputs": [
    {
     "name": "stdout",
     "output_type": "stream",
     "text": [
      "0\n"
     ]
    }
   ],
   "source": [
    "print(data.isnull().sum().sum())\n",
    "# No missing values"
   ]
  },
  {
   "cell_type": "markdown",
   "metadata": {},
   "source": [
    "#### Outliers"
   ]
  },
  {
   "cell_type": "code",
   "execution_count": 19,
   "metadata": {
    "collapsed": true
   },
   "outputs": [],
   "source": [
    "# No outliers"
   ]
  },
  {
   "cell_type": "code",
   "execution_count": 20,
   "metadata": {},
   "outputs": [
    {
     "data": {
      "text/plain": [
       "1    700\n",
       "0    300\n",
       "Name: classification, dtype: int64"
      ]
     },
     "execution_count": 20,
     "metadata": {},
     "output_type": "execute_result"
    }
   ],
   "source": [
    "# Binarize the y output for easier use of e.g. ROC curves -> 0 = 'bad' credit; 1 = 'good' credit\n",
    "data.classification.replace([1,2], [1,0], inplace=True)\n",
    "# Print number of 'good' credits (should be 700) and 'bad credits (should be 300)\n",
    "data.classification.value_counts()"
   ]
  },
  {
   "cell_type": "markdown",
   "metadata": {},
   "source": [
    "#### Visualization"
   ]
  },
  {
   "cell_type": "code",
   "execution_count": 21,
   "metadata": {},
   "outputs": [
    {
     "data": {
      "image/png": "[encoded data removed]",
      "text/plain": [
       "<matplotlib.figure.Figure at 0x110b29b38>"
      ]
     },
     "metadata": {},
     "output_type": "display_data"
    }
   ],
   "source": [
    "# Boxplots for continuous attributes\n",
    "fig, axes = plt.subplots(nrows=1, ncols=3)\n",
    "axes[0].boxplot(data['creditamount'])\n",
    "axes[0].set_title('creditamount')\n",
    "axes[1].boxplot(data['duration'])\n",
    "axes[1].set_title('duration')\n",
    "axes[2].boxplot(data['age'])\n",
    "axes[2].set_title('age')\n",
    "\n",
    "fig.savefig(\"boxplots.png\")"
   ]
  },
  {
   "cell_type": "code",
   "execution_count": 22,
   "metadata": {},
   "outputs": [
    {
     "data": {
      "image/png": "[encoded data removed]",
      "text/plain": [
       "<matplotlib.figure.Figure at 0x110d1ada0>"
      ]
     },
     "metadata": {},
     "output_type": "display_data"
    }
   ],
   "source": [
    "# Histograms for non-continuous attributes\n",
    "f, axes = plt.subplots(5, 4,figsize=(8.3*3,11.7*3))\n",
    "x=0\n",
    "y=0\n",
    "for column in data.drop(['classification','creditamount','duration','age'], axis=1):\n",
    "    sns.countplot(y=column, hue=\"classification\", data=data.drop(['creditamount','duration','age'],axis=1), ax=axes[x,y])\n",
    "    y+=1\n",
    "    if y>3:\n",
    "        x+=1\n",
    "        y=0\n",
    "    if x>4:\n",
    "        break\n",
    "f.savefig(\"histograms5.png\")"
   ]
  },
  {
   "cell_type": "markdown",
   "metadata": {},
   "source": [
    "## Data Transformation\n",
    "### Numerical features"
   ]
  },
  {
   "cell_type": "code",
   "execution_count": 23,
   "metadata": {},
   "outputs": [
    {
     "name": "stdout",
     "output_type": "stream",
     "text": [
      "creditamount :  250  -  18424\n",
      "duration :  4  -  72\n",
      "installmentrate :  1  -  4\n",
      "residencesince :  1  -  4\n",
      "age :  19  -  75\n",
      "existingcredits :  1  -  4\n",
      "peopleliable :  1  -  2\n",
      "classification :  0  -  1\n"
     ]
    }
   ],
   "source": [
    "# Numerical features range of values\n",
    "for x in range(len(numvars)):\n",
    "    print(numvars[x],\": \", data[numvars[x]].min(),\" - \",data[numvars[x]].max())"
   ]
  },
  {
   "cell_type": "code",
   "execution_count": 24,
   "metadata": {},
   "outputs": [
    {
     "name": "stdout",
     "output_type": "stream",
     "text": [
      "success\n"
     ]
    }
   ],
   "source": [
    "# Standardization\n",
    "numdata_std = pd.DataFrame(StandardScaler().fit_transform(data[numvars].drop(['classification'], axis=1)))\n",
    "# MinMax Rescaling to [0,1]\n",
    "numdata_minmax = pd.DataFrame(MinMaxScaler().fit_transform(data[numvars].drop(['classification'], axis=1)))\n",
    "print(\"success\")"
   ]
  },
  {
   "cell_type": "markdown",
   "metadata": {},
   "source": [
    "### Encoding categorical features "
   ]
  },
  {
   "cell_type": "code",
   "execution_count": 25,
   "metadata": {},
   "outputs": [
    {
     "name": "stdout",
     "output_type": "stream",
     "text": [
      "existingchecking :  ['A11' 'A12' 'A14' 'A13']\n",
      "existingchecking :  [0 1 3 2]\n",
      "credithistory :  ['A34' 'A32' 'A33' 'A30' 'A31']\n",
      "credithistory :  [4 2 3 0 1]\n",
      "purpose :  ['A43' 'A46' 'A42' 'A40' 'A41' 'A49' 'A44' 'A45' 'A410' 'A48']\n",
      "purpose :  [4 7 3 0 1 9 5 6 2 8]\n",
      "savings :  ['A65' 'A61' 'A63' 'A64' 'A62']\n",
      "savings :  [4 0 2 3 1]\n",
      "employmentsince :  ['A75' 'A73' 'A74' 'A71' 'A72']\n",
      "employmentsince :  [4 2 3 0 1]\n",
      "statussex :  ['A93' 'A92' 'A91' 'A94']\n",
      "statussex :  [2 1 0 3]\n",
      "otherdebtors :  ['A101' 'A103' 'A102']\n",
      "otherdebtors :  [0 2 1]\n",
      "property :  ['A121' 'A122' 'A124' 'A123']\n",
      "property :  [0 1 3 2]\n",
      "otherinstallmentplans :  ['A143' 'A141' 'A142']\n",
      "otherinstallmentplans :  [2 0 1]\n",
      "housing :  ['A152' 'A153' 'A151']\n",
      "housing :  [1 2 0]\n",
      "job :  ['A173' 'A172' 'A174' 'A171']\n",
      "job :  [2 1 3 0]\n",
      "telephone :  ['A192' 'A191']\n",
      "telephone :  [1 0]\n",
      "foreignworker :  ['A201' 'A202']\n",
      "foreignworker :  [0 1]\n"
     ]
    }
   ],
   "source": [
    "# Labelencoding to transform categorical to numerical\n",
    "# Enables better Visualization than one hot encoding\n",
    "d = defaultdict(LabelEncoder)\n",
    "\n",
    "# Encoding the variable\n",
    "lecatdata = data[catvars].apply(lambda x: d[x.name].fit_transform(x))\n",
    "\n",
    "# print transformations\n",
    "for x in range(len(catvars)):\n",
    "    print(catvars[x],\": \", data[catvars[x]].unique())\n",
    "    print(catvars[x],\": \", lecatdata[catvars[x]].unique())"
   ]
  },
  {
   "cell_type": "code",
   "execution_count": 26,
   "metadata": {
    "collapsed": true
   },
   "outputs": [],
   "source": [
    "# One hot encoding\n",
    "#create dummy variables for every category of every categorical variable\n",
    "dummyvars = pd.get_dummies(data[catvars])"
   ]
  },
  {
   "cell_type": "markdown",
   "metadata": {},
   "source": [
    "#### Concat transformed datasets "
   ]
  },
  {
   "cell_type": "code",
   "execution_count": 27,
   "metadata": {},
   "outputs": [
    {
     "name": "stdout",
     "output_type": "stream",
     "text": [
      "(1000, 62)\n",
      "(1000, 62)\n",
      "(1000, 62)\n"
     ]
    }
   ],
   "source": [
    "# append the dummy variable of the initial numerical variables numvars\n",
    "data_clean = pd.concat([data[numvars], dummyvars], axis = 1)\n",
    "data_std = pd.concat([numdata_std, data['classification'], dummyvars], axis = 1)\n",
    "data_minmax = pd.concat([numdata_minmax, data['classification'], dummyvars], axis = 1)\n",
    "print(data_clean.shape)\n",
    "print(data_std.shape)\n",
    "print(data_minmax.shape)"
   ]
  },
  {
   "cell_type": "markdown",
   "metadata": {},
   "source": [
    "#### Split Training and Test Data"
   ]
  },
  {
   "cell_type": "code",
   "execution_count": 28,
   "metadata": {
    "collapsed": true
   },
   "outputs": [],
   "source": [
    "# Unscaled, unnormalized data\n",
    "X_clean = data_clean.drop('classification', axis=1)\n",
    "y_clean = data_clean['classification']\n",
    "X_train_clean, X_test_clean, y_train_clean, y_test_clean = train_test_split(X_clean,y_clean,test_size=0.3333, random_state=1)\n",
    "\n",
    "# Standardized data\n",
    "X_std = data_std.drop('classification', axis=1)\n",
    "y_std = data_std['classification']\n",
    "X_train_std, X_test_std, y_train_std, y_test_std = train_test_split(X_std,y_std,test_size=0.3333, random_state=1)\n",
    "\n",
    "# Rescaled data\n",
    "X_minmax = data_minmax.drop('classification', axis=1)\n",
    "y_minmax = data_minmax['classification']\n",
    "X_train_minmax, X_test_minmax, y_train_minmax, y_test_minmax = train_test_split(X_minmax,y_minmax,test_size=0.3333, random_state=1)"
   ]
  },
  {
   "cell_type": "markdown",
   "metadata": {},
   "source": [
    "#### Handle imbalanced data\n",
    "\n",
    "* https://datascience.stackexchange.com/questions/1107/quick-guide-into-training-highly-imbalanced-data-sets\n",
    "* https://datascience.stackexchange.com/questions/454/what-are-the-implications-for-training-a-tree-ensemble-with-highly-biased-datase\n",
    "* http://machinelearningmastery.com/tactics-to-combat-imbalanced-classes-in-your-machine-learning-dataset/\n",
    "* Use penalization in algorithms\n",
    "* Set algorithm class weights\n",
    "* Oversampling is done in data preprocessing"
   ]
  },
  {
   "cell_type": "code",
   "execution_count": 29,
   "metadata": {},
   "outputs": [
    {
     "name": "stdout",
     "output_type": "stream",
     "text": [
      "Before/After clean\n",
      "{0: 208, 1: 458}\n",
      "{0: 458, 1: 458}\n",
      "Before/After std\n",
      "{0: 208, 1: 458}\n",
      "{0: 458, 1: 458}\n",
      "Before/After minmax\n",
      "{0: 208, 1: 458}\n",
      "{0: 458, 1: 458}\n"
     ]
    }
   ],
   "source": [
    "# Oversampling\n",
    "# http://contrib.scikit-learn.org/imbalanced-learn/auto_examples/combine/plot_smote_enn.html#sphx-glr-auto-examples-combine-plot-smote-enn-py\n",
    "\n",
    "# Apply SMOTE\n",
    "sm = SMOTE(ratio='auto')\n",
    "X_train_clean_res, y_train_clean_res = sm.fit_sample(X_train_clean, y_train_clean)\n",
    "X_train_std_res, y_train_std_res = sm.fit_sample(X_train_std, y_train_std)\n",
    "X_train_minmax_res, y_train_minmax_res = sm.fit_sample(X_train_minmax, y_train_minmax)\n",
    "\n",
    "# Print number of 'good' credits and 'bad credits, should be fairly balanced now\n",
    "print(\"Before/After clean\")\n",
    "unique, counts = np.unique(y_train_clean, return_counts=True)\n",
    "print(dict(zip(unique, counts)))\n",
    "unique, counts = np.unique(y_train_clean_res, return_counts=True)\n",
    "print(dict(zip(unique, counts)))\n",
    "print(\"Before/After std\")\n",
    "unique, counts = np.unique(y_train_std, return_counts=True)\n",
    "print(dict(zip(unique, counts)))\n",
    "unique, counts = np.unique(y_train_std_res, return_counts=True)\n",
    "print(dict(zip(unique, counts)))\n",
    "print(\"Before/After minmax\")\n",
    "unique, counts = np.unique(y_train_minmax, return_counts=True)\n",
    "print(dict(zip(unique, counts)))\n",
    "unique, counts = np.unique(y_train_minmax_res, return_counts=True)\n",
    "print(dict(zip(unique, counts)))"
   ]
  },
  {
   "cell_type": "markdown",
   "metadata": {},
   "source": [
    "## 1. Classification to evaluate data transformation\n",
    "\n",
    "* Unbalanced data: Balance dataset, adjust cost function of algo, adjusting class weights\n",
    "* General: adjust loss function"
   ]
  },
  {
   "cell_type": "code",
   "execution_count": 30,
   "metadata": {},
   "outputs": [
    {
     "name": "stdout",
     "output_type": "stream",
     "text": [
      "DummyClassifier\n",
      "Cross Validation Accuracy: 0.57 (+/- 0.05)\n",
      "Cross Validation Precision: 0.68 (+/- 0.04)\n",
      "Cross Validation roc_auc: 0.52 (+/- 0.05)\n",
      "[[ 32  60]\n",
      " [ 78 164]]\n"
     ]
    }
   ],
   "source": [
    "# Dummy Classifier\n",
    "print(\"DummyClassifier\")\n",
    "dclf = DummyClassifier(strategy='stratified').fit(X_train_clean, y_train_clean)\n",
    "\n",
    "# Predict target variables y for test data\n",
    "y_pred = dclf.predict(X_test_clean)\n",
    "\n",
    "# Get Cross Validation and Confusion matrix\n",
    "get_eval(dclf, X_train_clean, y_train_clean,y_test_clean,y_pred)"
   ]
  },
  {
   "cell_type": "code",
   "execution_count": 31,
   "metadata": {},
   "outputs": [
    {
     "name": "stdout",
     "output_type": "stream",
     "text": [
      "clean resampled\n",
      "DecisionTreeClassifier\n",
      "Cross Validation Accuracy: 0.74 (+/- 0.10)\n",
      "Cross Validation Precision: 0.77 (+/- 0.15)\n",
      "Cross Validation roc_auc: 0.80 (+/- 0.12)\n",
      "[[ 46  46]\n",
      " [ 57 185]]\n"
     ]
    }
   ],
   "source": [
    "# Decisiontree\n",
    "# Train, test and evaluate the classifiers with different preprocessed data\n",
    "print(\"clean resampled\")\n",
    "dectreeclf(X_train_clean_res, y_train_clean_res,X_test_clean, y_test_clean)"
   ]
  },
  {
   "cell_type": "code",
   "execution_count": 32,
   "metadata": {
    "scrolled": true
   },
   "outputs": [
    {
     "name": "stdout",
     "output_type": "stream",
     "text": [
      "clean resampled\n",
      "LogisticRegression\n",
      "Cross Validation Accuracy: 0.78 (+/- 0.06)\n",
      "Cross Validation Precision: 0.81 (+/- 0.06)\n",
      "Cross Validation roc_auc: 0.83 (+/- 0.07)\n",
      "[[ 59  33]\n",
      " [ 61 181]]\n"
     ]
    }
   ],
   "source": [
    "# Logistic Regression\n",
    "print(\"clean resampled\")\n",
    "logregclf(X_train_clean_res, y_train_clean_res,X_test_clean, y_test_clean)"
   ]
  },
  {
   "cell_type": "code",
   "execution_count": 33,
   "metadata": {},
   "outputs": [
    {
     "name": "stdout",
     "output_type": "stream",
     "text": [
      "std resampled\n",
      "LinearSVC\n",
      "Cross Validation Accuracy: 0.76 (+/- 0.06)\n",
      "Cross Validation Precision: 0.78 (+/- 0.05)\n",
      "Cross Validation roc_auc: 0.82 (+/- 0.06)\n",
      "[[ 61  31]\n",
      " [ 67 175]]\n"
     ]
    }
   ],
   "source": [
    "# Linear SVC with weighted classes (balanced)\n",
    "print(\"std resampled\")\n",
    "linearsvmclf(X_train_std_res, y_train_std_res,X_test_std, y_test_std,2)"
   ]
  },
  {
   "cell_type": "code",
   "execution_count": 34,
   "metadata": {},
   "outputs": [
    {
     "name": "stdout",
     "output_type": "stream",
     "text": [
      "minmax resampled\n",
      "SVC\n",
      "Cross Validation Accuracy: 0.75 (+/- 0.06)\n",
      "Cross Validation Precision: 0.78 (+/- 0.07)\n",
      "Cross Validation roc_auc: 0.82 (+/- 0.06)\n",
      "[[ 62  30]\n",
      " [ 62 180]]\n"
     ]
    }
   ],
   "source": [
    "# SVC with weighted classes (balanced)\n",
    "print('minmax resampled')\n",
    "svmclf(X_train_minmax_res,y_train_minmax_res,X_test_minmax,y_test_minmax,2)"
   ]
  },
  {
   "cell_type": "code",
   "execution_count": 35,
   "metadata": {},
   "outputs": [
    {
     "name": "stdout",
     "output_type": "stream",
     "text": [
      "clean resampled\n",
      "GaussianNB\n",
      "Cross Validation Accuracy: 0.76 (+/- 0.06)\n",
      "Cross Validation Precision: 0.80 (+/- 0.08)\n",
      "Cross Validation roc_auc: 0.81 (+/- 0.06)\n",
      "[[ 59  33]\n",
      " [ 74 168]]\n"
     ]
    }
   ],
   "source": [
    "# Gaussian Naive Bayes\n",
    "# Train, test and evaluate the classifiers with different preprocessed data\n",
    "print(\"clean resampled\")\n",
    "gaussnbclf(X_train_clean_res, y_train_clean_res,X_test_clean, y_test_clean)"
   ]
  },
  {
   "cell_type": "markdown",
   "metadata": {},
   "source": [
    "### Data Reduction\n",
    "#### Feature Selection\n",
    "* http://scikit-learn.org/stable/modules/feature_selection.html"
   ]
  },
  {
   "cell_type": "code",
   "execution_count": 36,
   "metadata": {},
   "outputs": [
    {
     "name": "stdout",
     "output_type": "stream",
     "text": [
      "property_A124               housing_A153                  0.779853\n",
      "housing_A153                property_A124                 0.779853\n",
      "creditamount                duration                      0.624984\n",
      "duration                    creditamount                  0.624984\n",
      "existingcredits             credithistory_A34             0.501364\n",
      "credithistory_A34           existingcredits               0.501364\n",
      "existingcredits             credithistory_A32            -0.540354\n",
      "credithistory_A32           existingcredits              -0.540354\n",
      "job_A173                    job_A174                     -0.543852\n",
      "job_A174                    job_A173                     -0.543852\n",
      "housing_A153                housing_A152                 -0.548445\n",
      "housing_A152                housing_A153                 -0.548445\n",
      "savings_A61                 savings_A65                  -0.583281\n",
      "savings_A65                 savings_A61                  -0.583281\n",
      "otherdebtors_A102           otherdebtors_A101            -0.645721\n",
      "otherdebtors_A101           otherdebtors_A102            -0.645721\n",
      "job_A173                    job_A172                     -0.652438\n",
      "job_A172                    job_A173                     -0.652438\n",
      "credithistory_A34           credithistory_A32            -0.683617\n",
      "credithistory_A32           credithistory_A34            -0.683617\n",
      "otherdebtors_A101           otherdebtors_A103            -0.731408\n",
      "otherdebtors_A103           otherdebtors_A101            -0.731408\n",
      "housing_A152                housing_A151                 -0.735968\n",
      "housing_A151                housing_A152                 -0.735968\n",
      "statussex_A92               statussex_A93                -0.738036\n",
      "statussex_A93               statussex_A92                -0.738036\n",
      "otherinstallmentplans_A143  otherinstallmentplans_A141   -0.840546\n",
      "otherinstallmentplans_A141  otherinstallmentplans_A143   -0.840546\n",
      "dtype: float64\n"
     ]
    }
   ],
   "source": [
    "# Save Correlation Matrix of every variable\n",
    "data_clean.corr(method='pearson').to_csv(\"data_corr.csv\")\n",
    "\n",
    "# List highly correlated features\n",
    "c = data_clean.corr()\n",
    "# Pivots the row/class labels with respective values: matrix -> list\n",
    "s = c.stack()\n",
    "# Select and sort (descending) all pairs with correlation values 0.5<x<1 or -1<x<-0.5\n",
    "so = s[(0.5<s) & (s<1) | (-1<s) & (s<-0.5)].sort_values(ascending=False, kind='quicksort')\n",
    "print(so)\n"
   ]
  },
  {
   "cell_type": "code",
   "execution_count": 37,
   "metadata": {
    "collapsed": true
   },
   "outputs": [],
   "source": [
    "# SelectKBest\n",
    "# Use rescaled data, as data must be non-negative\n",
    "skb = SelectKBest(chi2, k=50)\n",
    "skb.fit(X_train_minmax_res, y_train_minmax_res)\n",
    "\n",
    "# Apply fitted transformation to datasets\n",
    "SKBX_train = skb.transform(X_train_clean_res)\n",
    "SKBX_test = skb.transform(X_test_clean)\n",
    "SKBy_train = y_train_minmax_res\n",
    "SKBy_test = y_test_minmax"
   ]
  },
  {
   "cell_type": "code",
   "execution_count": 38,
   "metadata": {},
   "outputs": [
    {
     "name": "stdout",
     "output_type": "stream",
     "text": [
      "Num Features: 50\n",
      "Selected Features: [False False  True False False  True  True  True  True  True  True  True\n",
      " False False  True  True  True  True  True  True  True  True  True  True\n",
      "  True  True  True  True  True  True  True  True  True  True  True  True\n",
      "  True  True  True  True  True  True  True  True  True False False False\n",
      " False  True False  True  True  True  True  True  True  True  True  True\n",
      "  True]\n",
      "Feature Ranking: [12  2  1  8 10  1  1  1  1  1  1  1  3  4  1  1  1  1  1  1  1  1  1  1  1\n",
      "  1  1  1  1  1  1  1  1  1  1  1  1  1  1  1  1  1  1  1  1  6 11  9  5  1\n",
      "  7  1  1  1  1  1  1  1  1  1  1]\n"
     ]
    }
   ],
   "source": [
    "# Recursive feature elimination (RFE)\n",
    "# Use clean data, as logistic regression should be robust do different feature scales\n",
    "rfe = RFE(LogisticRegression(), 50)\n",
    "fit = rfe.fit(X_train_clean_res, y_train_clean_res)\n",
    "print(\"Num Features: %d\" % fit.n_features_)\n",
    "print(\"Selected Features: %s\" % fit.support_)\n",
    "print(\"Feature Ranking: %s\" % fit.ranking_)\n",
    "\n",
    "# Apply fitted transformation to datasets\n",
    "RFEX_train = rfe.transform(X_train_clean_res)\n",
    "RFEX_test = rfe.transform(X_test_clean)\n",
    "RFEy_train = y_train_clean_res\n",
    "RFEy_test = y_test_clean"
   ]
  },
  {
   "cell_type": "code",
   "execution_count": 39,
   "metadata": {},
   "outputs": [
    {
     "name": "stdout",
     "output_type": "stream",
     "text": [
      "(916, 45)\n",
      "Top 50 Features:\n",
      "1. feature 7 (0.081420)\n",
      "2. feature 10 (0.061386)\n",
      "3. feature 15 (0.045450)\n",
      "4. feature 0 (0.036200)\n",
      "5. feature 8 (0.031297)\n",
      "6. feature 1 (0.030455)\n",
      "7. feature 2 (0.029471)\n",
      "8. feature 43 (0.027182)\n",
      "9. feature 3 (0.026099)\n",
      "10. feature 4 (0.025329)\n",
      "11. feature 16 (0.024719)\n",
      "12. feature 26 (0.022429)\n",
      "13. feature 37 (0.022318)\n",
      "14. feature 30 (0.021087)\n",
      "15. feature 38 (0.020698)\n",
      "16. feature 55 (0.020237)\n",
      "17. feature 20 (0.019956)\n",
      "18. feature 51 (0.018813)\n",
      "19. feature 49 (0.017617)\n",
      "20. feature 17 (0.016430)\n",
      "21. feature 44 (0.016059)\n",
      "22. feature 13 (0.015978)\n",
      "23. feature 33 (0.015690)\n",
      "24. feature 5 (0.015577)\n",
      "25. feature 50 (0.015415)\n",
      "26. feature 32 (0.015172)\n",
      "27. feature 46 (0.014979)\n",
      "28. feature 45 (0.014736)\n",
      "29. feature 40 (0.014542)\n",
      "30. feature 58 (0.014176)\n",
      "31. feature 57 (0.013035)\n",
      "32. feature 35 (0.012715)\n",
      "33. feature 47 (0.012648)\n",
      "34. feature 6 (0.011932)\n",
      "35. feature 42 (0.011719)\n",
      "36. feature 34 (0.011694)\n",
      "37. feature 56 (0.011678)\n",
      "38. feature 19 (0.011557)\n",
      "39. feature 11 (0.011212)\n",
      "40. feature 29 (0.010687)\n",
      "41. feature 25 (0.010361)\n",
      "42. feature 27 (0.010344)\n",
      "43. feature 14 (0.010297)\n",
      "44. feature 12 (0.010025)\n",
      "45. feature 9 (0.010007)\n",
      "46. feature 39 (0.008569)\n",
      "47. feature 28 (0.007766)\n",
      "48. feature 41 (0.007719)\n",
      "49. feature 54 (0.007558)\n",
      "50. feature 48 (0.007133)\n"
     ]
    }
   ],
   "source": [
    "# Bagged Decision Trees like Random Forest and Extra Tree to determine feature importance\n",
    "# Use clean data, unstandardized and unscaled, because tree is robust to different scales\n",
    "etcclf = ExtraTreesClassifier().fit(X_train_clean_res, y_train_clean_res)\n",
    "    \n",
    "# Select important features using sklearn SelectFromModel, vary treshold, good value turns out to be mean -> select overaverage important features\n",
    "sfm = SelectFromModel(etcclf, prefit=True, threshold=0.01)\n",
    "\n",
    "# Apply fitted transformation to datasets\n",
    "SFMETCX_train = sfm.transform(X_train_clean_res)\n",
    "SFMETCX_test = sfm.transform(X_test_clean)\n",
    "SFMETCy_train = y_train_clean_res\n",
    "SFMETCy_test = y_test_clean\n",
    "\n",
    "# Print shape to see how many features have been selected\n",
    "print(SFMETCX_train.shape)\n",
    "\n",
    "# Calculate the feature ranking - Top50 \n",
    "importances = etcclf.feature_importances_ \n",
    "std = np.std([etcclf.feature_importances_ for tree in etcclf.estimators_], axis=0) \n",
    "indices = np.argsort(importances)[::-1] \n",
    "print(\"Top 50 Features:\") \n",
    "for f in range(50): \n",
    "    print(\"%d. feature %d (%f)\" % (f + 1, indices[f], importances[indices[f]])) \n",
    "    "
   ]
  },
  {
   "cell_type": "code",
   "execution_count": 40,
   "metadata": {},
   "outputs": [
    {
     "name": "stdout",
     "output_type": "stream",
     "text": [
      "[ 0.14632724  0.11604923  0.08376063  0.07194472  0.06671749  0.05777319\n",
      "  0.03602018  0.03244407  0.02597071  0.02520787]\n"
     ]
    }
   ],
   "source": [
    "# Principal Component Analysis\n",
    "# Here we use standardized data, to not overestimate the influence of single variables, which results from different scaling\n",
    "pca = PCA(n_components=10)\n",
    "pca.fit_transform(X_train_std_res, y_train_std_res)\n",
    "print(pca.explained_variance_ratio_) \n",
    "\n",
    "# Apply fitted transformation to datasets\n",
    "PCAX_train = pca.transform(X_train_clean_res)\n",
    "PCAX_test = pca.transform(X_test_clean)\n",
    "PCAy_train = y_train_std_res\n",
    "PCAy_test = y_test_std"
   ]
  },
  {
   "cell_type": "markdown",
   "metadata": {
    "collapsed": true
   },
   "source": [
    "## 2. Classification to evaluate data reduction"
   ]
  },
  {
   "cell_type": "code",
   "execution_count": 41,
   "metadata": {},
   "outputs": [
    {
     "name": "stdout",
     "output_type": "stream",
     "text": [
      "without reduction\n",
      "LogisticRegression\n",
      "Cross Validation Accuracy: 0.78 (+/- 0.05)\n",
      "Cross Validation Precision: 0.80 (+/- 0.06)\n",
      "Cross Validation roc_auc: 0.83 (+/- 0.07)\n",
      "[[ 59  33]\n",
      " [ 60 182]]\n",
      "SKB\n",
      "LogisticRegression\n",
      "Cross Validation Accuracy: 0.77 (+/- 0.06)\n",
      "Cross Validation Precision: 0.79 (+/- 0.06)\n",
      "Cross Validation roc_auc: 0.83 (+/- 0.07)\n",
      "[[ 58  34]\n",
      " [ 64 178]]\n",
      "RFE\n",
      "LogisticRegression\n",
      "Cross Validation Accuracy: 0.74 (+/- 0.05)\n",
      "Cross Validation Precision: 0.75 (+/- 0.06)\n",
      "Cross Validation roc_auc: 0.80 (+/- 0.06)\n",
      "[[ 56  36]\n",
      " [ 62 180]]\n",
      "SFMETC\n",
      "LogisticRegression\n",
      "Cross Validation Accuracy: 0.76 (+/- 0.07)\n",
      "Cross Validation Precision: 0.79 (+/- 0.07)\n",
      "Cross Validation roc_auc: 0.83 (+/- 0.07)\n",
      "[[ 62  30]\n",
      " [ 67 175]]\n",
      "PCA\n",
      "LogisticRegression\n",
      "Cross Validation Accuracy: 0.71 (+/- 0.07)\n",
      "Cross Validation Precision: 0.71 (+/- 0.08)\n",
      "Cross Validation roc_auc: 0.78 (+/- 0.07)\n",
      "[[ 63  29]\n",
      " [ 68 174]]\n"
     ]
    }
   ],
   "source": [
    "# Logistic Regression\n",
    "# clean res data and different data reduction\n",
    "print(\"without reduction\")\n",
    "logregclf(X_train_clean_res, y_train_clean_res,X_test_clean, y_test_clean)\n",
    "print(\"SKB\")\n",
    "logregclf(SKBX_train, SKBy_train, SKBX_test, SKBy_test)\n",
    "print(\"RFE\")\n",
    "logregclf(RFEX_train, RFEy_train, RFEX_test, RFEy_test)\n",
    "print(\"SFMETC\")\n",
    "logregclf(SFMETCX_train, SFMETCy_train, SFMETCX_test, SFMETCy_test)\n",
    "print(\"PCA\")\n",
    "logregclf(PCAX_train, PCAy_train, PCAX_test, PCAy_test)"
   ]
  },
  {
   "cell_type": "code",
   "execution_count": 42,
   "metadata": {},
   "outputs": [
    {
     "name": "stdout",
     "output_type": "stream",
     "text": [
      "without reduction\n",
      "GaussianNB\n",
      "Cross Validation Accuracy: 0.76 (+/- 0.06)\n",
      "Cross Validation Precision: 0.80 (+/- 0.08)\n",
      "Cross Validation roc_auc: 0.81 (+/- 0.06)\n",
      "[[ 59  33]\n",
      " [ 74 168]]\n",
      "SKB\n",
      "GaussianNB\n",
      "Cross Validation Accuracy: 0.77 (+/- 0.06)\n",
      "Cross Validation Precision: 0.80 (+/- 0.08)\n",
      "Cross Validation roc_auc: 0.81 (+/- 0.06)\n",
      "[[ 57  35]\n",
      " [ 69 173]]\n",
      "RFE\n",
      "GaussianNB\n",
      "Cross Validation Accuracy: 0.73 (+/- 0.05)\n",
      "Cross Validation Precision: 0.77 (+/- 0.06)\n",
      "Cross Validation roc_auc: 0.78 (+/- 0.05)\n",
      "[[ 57  35]\n",
      " [ 92 150]]\n",
      "SFMETC\n",
      "GaussianNB\n",
      "Cross Validation Accuracy: 0.77 (+/- 0.06)\n",
      "Cross Validation Precision: 0.79 (+/- 0.08)\n",
      "Cross Validation roc_auc: 0.83 (+/- 0.06)\n",
      "[[ 56  36]\n",
      " [ 54 188]]\n",
      "PCA\n",
      "GaussianNB\n",
      "Cross Validation Accuracy: 0.55 (+/- 0.04)\n",
      "Cross Validation Precision: 0.53 (+/- 0.03)\n",
      "Cross Validation roc_auc: 0.58 (+/- 0.05)\n",
      "[[ 27  65]\n",
      " [ 39 203]]\n"
     ]
    }
   ],
   "source": [
    "#Gaussian Naive Bayes\n",
    "# clean res data and different data reduction\n",
    "print(\"without reduction\")\n",
    "gaussnbclf(X_train_clean_res, y_train_clean_res,X_test_clean, y_test_clean)\n",
    "print(\"SKB\")\n",
    "gaussnbclf(SKBX_train, SKBy_train, SKBX_test, SKBy_test)\n",
    "print(\"RFE\")\n",
    "gaussnbclf(RFEX_train, RFEy_train, RFEX_test, RFEy_test)\n",
    "print(\"SFMETC\")\n",
    "gaussnbclf(SFMETCX_train, SFMETCy_train, SFMETCX_test, SFMETCy_test)\n",
    "print(\"PCA\")\n",
    "gaussnbclf(PCAX_train, PCAy_train, PCAX_test, PCAy_test)"
   ]
  },
  {
   "cell_type": "code",
   "execution_count": 43,
   "metadata": {},
   "outputs": [
    {
     "name": "stdout",
     "output_type": "stream",
     "text": [
      "without reduction\n",
      "SVC\n",
      "Cross Validation Accuracy: 0.75 (+/- 0.06)\n",
      "Cross Validation Precision: 0.78 (+/- 0.07)\n",
      "Cross Validation roc_auc: 0.82 (+/- 0.06)\n",
      "[[ 62  30]\n",
      " [ 62 180]]\n",
      "SKB\n",
      "RFE\n",
      "SFMETC\n",
      "PCA\n"
     ]
    }
   ],
   "source": [
    "# SVC with weighted classes (balanced)\n",
    "# minmax res data and different data reduction\n",
    "print('without reduction')\n",
    "svmclf(X_train_minmax_res,y_train_minmax_res,X_test_minmax,y_test_minmax,2)\n",
    "print(\"SKB\")\n",
    "#svmclf(SKBX_train, SKBy_train, SKBX_test, SKBy_test,2)\n",
    "print(\"RFE\")\n",
    "#svmclf(RFEX_train, RFEy_train, RFEX_test, RFEy_test,2)\n",
    "print(\"SFMETC\")\n",
    "#svmclf(SFMETCX_train, SFMETCy_train, SFMETCX_test, SFMETCy_test,2)\n",
    "print(\"PCA\")\n",
    "#svmclf(PCAX_train, PCAy_train, PCAX_test, PCAy_test,2)"
   ]
  },
  {
   "cell_type": "code",
   "execution_count": 44,
   "metadata": {},
   "outputs": [
    {
     "name": "stdout",
     "output_type": "stream",
     "text": [
      "without reduction\n",
      "LinearSVC\n",
      "Cross Validation Accuracy: 0.76 (+/- 0.06)\n",
      "Cross Validation Precision: 0.78 (+/- 0.05)\n",
      "Cross Validation roc_auc: 0.82 (+/- 0.06)\n",
      "[[ 61  31]\n",
      " [ 67 175]]\n",
      "SKB\n",
      "LinearSVC\n",
      "Cross Validation Accuracy: 0.77 (+/- 0.06)\n",
      "Cross Validation Precision: 0.80 (+/- 0.06)\n",
      "Cross Validation roc_auc: 0.83 (+/- 0.07)\n",
      "[[ 59  33]\n",
      " [ 65 177]]\n",
      "RFE\n",
      "LinearSVC\n",
      "Cross Validation Accuracy: 0.74 (+/- 0.06)\n",
      "Cross Validation Precision: 0.76 (+/- 0.07)\n",
      "Cross Validation roc_auc: 0.80 (+/- 0.06)\n",
      "[[ 56  36]\n",
      " [ 65 177]]\n",
      "SFMETC\n",
      "LinearSVC\n",
      "Cross Validation Accuracy: 0.76 (+/- 0.06)\n",
      "Cross Validation Precision: 0.79 (+/- 0.07)\n",
      "Cross Validation roc_auc: 0.83 (+/- 0.06)\n",
      "[[ 62  30]\n",
      " [ 70 172]]\n",
      "PCA\n",
      "LinearSVC\n",
      "Cross Validation Accuracy: 0.70 (+/- 0.08)\n",
      "Cross Validation Precision: 0.71 (+/- 0.08)\n",
      "Cross Validation roc_auc: 0.78 (+/- 0.07)\n",
      "[[ 63  29]\n",
      " [ 69 173]]\n"
     ]
    }
   ],
   "source": [
    "# Linear SVC with weighted classes (balanced)\n",
    "print(\"without reduction\")\n",
    "linearsvmclf(X_train_std_res, y_train_std_res,X_test_std, y_test_std,2)\n",
    "print(\"SKB\")\n",
    "linearsvmclf(SKBX_train, SKBy_train, SKBX_test, SKBy_test,2)\n",
    "print(\"RFE\")\n",
    "linearsvmclf(RFEX_train, RFEy_train, RFEX_test, RFEy_test,2)\n",
    "print(\"SFMETC\")\n",
    "linearsvmclf(SFMETCX_train, SFMETCy_train, SFMETCX_test, SFMETCy_test,2)\n",
    "print(\"PCA\")\n",
    "linearsvmclf(PCAX_train, PCAy_train, PCAX_test, PCAy_test,2)"
   ]
  },
  {
   "cell_type": "markdown",
   "metadata": {},
   "source": [
    "## 2. Increasing Accuracy\n",
    "\n",
    "* Use bagging and boosting: RandomForestClassifier, ExtraTreesClassifier\n",
    "* SVC, Grid Search Parameter Optimization\n",
    "* Multilayer Perceptron Classifier\n",
    "* Gradient Booster Classifier\n",
    "* AdaBoost\n",
    "* BaggingClassifier\n",
    "* SGDClassifier\n",
    "* VotingClassifier (Look where algorithms have their strengths - then combine e.g. good algo for tp with good algo for tp\n",
    "* http://scikit-learn.org/stable/modules/ensemble.html\n"
   ]
  },
  {
   "cell_type": "code",
   "execution_count": 45,
   "metadata": {},
   "outputs": [
    {
     "name": "stdout",
     "output_type": "stream",
     "text": [
      "RandomForestClassifier\n",
      "Cross Validation Accuracy: 0.80 (+/- 0.09)\n",
      "Cross Validation Precision: 0.83 (+/- 0.17)\n",
      "Cross Validation roc_auc: 0.89 (+/- 0.12)\n",
      "[[ 42  50]\n",
      " [ 50 192]]\n"
     ]
    }
   ],
   "source": [
    "# Random Forest\n",
    "# Choose clean data, as tree is robust\n",
    "randomforestclf(X_train_clean_res, y_train_clean_res,X_test_clean, y_test_clean)"
   ]
  },
  {
   "cell_type": "code",
   "execution_count": 46,
   "metadata": {
    "scrolled": true
   },
   "outputs": [
    {
     "name": "stdout",
     "output_type": "stream",
     "text": [
      "ExtraTreesClassifier\n",
      "Cross Validation Accuracy: 0.82 (+/- 0.07)\n",
      "Cross Validation Precision: 0.86 (+/- 0.15)\n",
      "Cross Validation roc_auc: 0.90 (+/- 0.10)\n",
      "[[ 47  45]\n",
      " [ 41 201]]\n"
     ]
    }
   ],
   "source": [
    "# Extra Trees\n",
    "# Choose clean data, as tree is robust\n",
    "extratreesclf(X_train_clean_res, y_train_clean_res,X_test_clean, y_test_clean)"
   ]
  },
  {
   "cell_type": "code",
   "execution_count": 47,
   "metadata": {},
   "outputs": [
    {
     "name": "stdout",
     "output_type": "stream",
     "text": [
      "AdaBoostClassifier\n",
      "Cross Validation Accuracy: 0.80 (+/- 0.12)\n",
      "Cross Validation Precision: 0.83 (+/- 0.17)\n",
      "Cross Validation roc_auc: 0.88 (+/- 0.12)\n",
      "[[ 45  47]\n",
      " [ 42 200]]\n"
     ]
    }
   ],
   "source": [
    "# AdaBoostClassifier\n",
    "# Choose clean data, as tree is robust\n",
    "adaboostclf(X_train_clean_res, y_train_clean_res,X_test_clean, y_test_clean)"
   ]
  },
  {
   "cell_type": "code",
   "execution_count": 48,
   "metadata": {},
   "outputs": [
    {
     "name": "stdout",
     "output_type": "stream",
     "text": [
      "BaggingClassifier\n",
      "Cross Validation Accuracy: 0.78 (+/- 0.09)\n",
      "Cross Validation Precision: 0.83 (+/- 0.14)\n",
      "Cross Validation roc_auc: 0.87 (+/- 0.10)\n",
      "[[ 43  49]\n",
      " [ 54 188]]\n"
     ]
    }
   ],
   "source": [
    "# BaggingClassifier\n",
    "baggingclf(X_train_minmax_res, y_train_minmax_res, X_test_minmax, y_test_minmax)"
   ]
  },
  {
   "cell_type": "code",
   "execution_count": 49,
   "metadata": {},
   "outputs": [
    {
     "name": "stdout",
     "output_type": "stream",
     "text": [
      "GradientBoostingClassifier\n",
      "Cross Validation Accuracy: 0.81 (+/- 0.12)\n",
      "Cross Validation Precision: 0.83 (+/- 0.17)\n",
      "Cross Validation roc_auc: 0.90 (+/- 0.10)\n",
      "[[ 43  49]\n",
      " [ 31 211]]\n"
     ]
    }
   ],
   "source": [
    "# GradientBoostingClassifier\n",
    "# Choose clean data, as tree is robust\n",
    "gradientboostingclf(X_train_clean_res, y_train_clean_res,X_test_clean, y_test_clean)"
   ]
  },
  {
   "cell_type": "code",
   "execution_count": 50,
   "metadata": {},
   "outputs": [
    {
     "name": "stdout",
     "output_type": "stream",
     "text": [
      "MLPClassifier\n",
      "<bound method BaseEstimator.get_params of MLPClassifier(activation='relu', alpha=5, batch_size='auto', beta_1=0.9,\n",
      "       beta_2=0.999, early_stopping=False, epsilon=1e-08,\n",
      "       hidden_layer_sizes=(75, 75), learning_rate='constant',\n",
      "       learning_rate_init=0.001, max_iter=200, momentum=0.9,\n",
      "       nesterovs_momentum=True, power_t=0.5, random_state=None,\n",
      "       shuffle=True, solver='lbfgs', tol=0.0001, validation_fraction=0.1,\n",
      "       verbose=False, warm_start=False)>\n",
      "Cross Validation Accuracy: 0.70 (+/- 0.06)\n",
      "Cross Validation Precision: 0.80 (+/- 0.04)\n",
      "Cross Validation roc_auc: 0.76 (+/- 0.07)\n",
      "[[ 42  50]\n",
      " [ 43 199]]\n"
     ]
    }
   ],
   "source": [
    "# Multi-layer Perceptron classifier (MLP)\n",
    "mlpclf(X_train_minmax, y_train_minmax, X_test_minmax, y_test_minmax)"
   ]
  },
  {
   "cell_type": "code",
   "execution_count": 51,
   "metadata": {},
   "outputs": [
    {
     "name": "stdout",
     "output_type": "stream",
     "text": [
      "SGDClassifier\n",
      "Cross Validation Accuracy: 0.69 (+/- 0.05)\n",
      "Cross Validation Precision: 0.82 (+/- 0.08)\n",
      "Cross Validation roc_auc: 0.74 (+/- 0.08)\n",
      "[[ 16  76]\n",
      " [  9 233]]\n"
     ]
    }
   ],
   "source": [
    "# SGDClassifier (Logistic Regression and SVC)\n",
    "sgdclf(X_train_minmax, y_train_minmax, X_test_minmax, y_test_minmax)"
   ]
  }
 ],
 "metadata": {
  "kernelspec": {
   "display_name": "Python 3",
   "language": "python",
   "name": "python3"
  },
  "language_info": {
   "codemirror_mode": {
    "name": "ipython",
    "version": 3
   },
   "file_extension": ".py",
   "mimetype": "text/x-python",
   "name": "python",
   "nbconvert_exporter": "python",
   "pygments_lexer": "ipython3",
   "version": "3.6.1"
  }
 },
 "nbformat": 4,
 "nbformat_minor": 1
}
